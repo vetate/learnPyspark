{
 "cells": [
  {
   "cell_type": "code",
   "execution_count": 0,
   "metadata": {
    "application/vnd.databricks.v1+cell": {
     "cellMetadata": {
      "byteLimit": 2048000,
      "rowLimit": 10000
     },
     "inputWidgets": {},
     "nuid": "bb254079-3989-4386-90c4-bc35463ac150",
     "showTitle": true,
     "title": "Strings"
    }
   },
   "outputs": [
    {
     "output_type": "stream",
     "name": "stdout",
     "output_type": "stream",
     "text": [
      "String 1 String 2\n"
     ]
    }
   ],
   "source": [
    "# First, we will set some variables, which does not require specifying the data type in Python. \n",
    "# Then, we run a few common string operations.\n",
    "\n",
    "my_var_1 = \"String 1\"\n",
    "my_var_2 = 'String 2'\n",
    "\n",
    "print(my_var_1, my_var_2)"
   ]
  },
  {
   "cell_type": "code",
   "execution_count": 0,
   "metadata": {
    "application/vnd.databricks.v1+cell": {
     "cellMetadata": {
      "byteLimit": 2048000,
      "rowLimit": 10000
     },
     "inputWidgets": {},
     "nuid": "61ba1677-d6e1-46e9-a105-9a44a73f8dd7",
     "showTitle": true,
     "title": "Concatenation"
    }
   },
   "outputs": [
    {
     "output_type": "stream",
     "name": "stdout",
     "output_type": "stream",
     "text": [
      "String 1, String 2\nMy variables are: String 1, String 2!\n"
     ]
    }
   ],
   "source": [
    "concatenated_string_1 = my_var_1 + \", \" + str(my_var_2)\n",
    "\n",
    "formatted_string = f\"My variables are: {my_var_1}, {my_var_2}!\"\n",
    "\n",
    "print(concatenated_string_1)\n",
    "print(formatted_string)"
   ]
  },
  {
   "cell_type": "code",
   "execution_count": 0,
   "metadata": {
    "application/vnd.databricks.v1+cell": {
     "cellMetadata": {
      "byteLimit": 2048000,
      "rowLimit": 10000
     },
     "inputWidgets": {},
     "nuid": "b00c83eb-00e1-4254-8151-412f42ecc27d",
     "showTitle": true,
     "title": "Other Data Types"
    }
   },
   "outputs": [
    {
     "output_type": "stream",
     "name": "stdout",
     "output_type": "stream",
     "text": [
      "<class 'int'> 12\n<class 'float'> 23.12\n<class 'bool'> True\n"
     ]
    }
   ],
   "source": [
    "# int\n",
    "my_int = 12\n",
    "\n",
    "# float\n",
    "cost = 23.12\n",
    "\n",
    "# boolean\n",
    "is_easy = True\n",
    "\n",
    "print(type(my_int), my_int)\n",
    "print(type(cost), cost)\n",
    "print(type(is_easy), is_easy)"
   ]
  },
  {
   "cell_type": "code",
   "execution_count": 0,
   "metadata": {
    "application/vnd.databricks.v1+cell": {
     "cellMetadata": {
      "byteLimit": 2048000,
      "rowLimit": 10000
     },
     "inputWidgets": {},
     "nuid": "18d9d40d-6c99-4210-88cc-8a88b251b363",
     "showTitle": false,
     "title": ""
    }
   },
   "outputs": [
    {
     "output_type": "stream",
     "name": "stdout",
     "output_type": "stream",
     "text": [
      "<class 'bytes'> b'Byte string'\n<class 'tuple'> ('Dana', 22, False)\n<class 'set'> {25, 12, 22}\n"
     ]
    }
   ],
   "source": [
    "# bytes\n",
    "my_bytes = b'Byte string'\n",
    "\n",
    "# tuple\n",
    "my_tuple = (\"Dana\", 22, False)\n",
    "\n",
    "# set\n",
    "my_set = {12, 22, 22, 25, 25}\n",
    "\n",
    "print(type(my_bytes), my_bytes)\n",
    "print(type(my_tuple), my_tuple)\n",
    "print(type(my_set), my_set)"
   ]
  },
  {
   "cell_type": "code",
   "execution_count": 0,
   "metadata": {
    "application/vnd.databricks.v1+cell": {
     "cellMetadata": {
      "byteLimit": 2048000,
      "rowLimit": 10000
     },
     "inputWidgets": {},
     "nuid": "9518b7db-68a2-4cee-a301-e8eb68b4080c",
     "showTitle": true,
     "title": "List"
    }
   },
   "outputs": [
    {
     "output_type": "stream",
     "name": "stdout",
     "output_type": "stream",
     "text": [
      "['Jane', 'John', 'Bruce', 'Ve', 'Thor']\n[['Jane', 22], ['John', 31], ['Bruce', 19], ['Ve', 34], ['Thor', None]]\n"
     ]
    }
   ],
   "source": [
    "# Now let's look at a Python List, which is like an Array or Linked List.\n",
    "\n",
    "my_list = [\"Jane\", \"John\", \"Bruce\", \"Ve\", \"Thor\"]\n",
    "\n",
    "my_2D_list = [[\"Jane\", 22], [\"John\", 31], [\"Bruce\", 19], [\"Ve\", 34], [\"Thor\", None]]\n",
    "\n",
    "print(my_list)\n",
    "print(my_2D_list)"
   ]
  },
  {
   "cell_type": "code",
   "execution_count": 0,
   "metadata": {
    "application/vnd.databricks.v1+cell": {
     "cellMetadata": {
      "byteLimit": 2048000,
      "rowLimit": 10000
     },
     "inputWidgets": {},
     "nuid": "ae0ea533-b18c-4027-a7b5-fec0afeb91f1",
     "showTitle": true,
     "title": "Loop"
    }
   },
   "outputs": [
    {
     "output_type": "stream",
     "name": "stdout",
     "output_type": "stream",
     "text": [
      "Jane\nyes\nJohn\nyes\nBruce\nyes\nVe\nyes\nThor\nyes\n"
     ]
    }
   ],
   "source": [
    "# Example of looping through 1 dimensional and 2 dimensional iterable objects.\n",
    "\n",
    "for name in my_list:\n",
    "  print(name)\n",
    "  print(\"yes\")"
   ]
  },
  {
   "cell_type": "code",
   "execution_count": 0,
   "metadata": {
    "application/vnd.databricks.v1+cell": {
     "cellMetadata": {
      "byteLimit": 2048000,
      "rowLimit": 10000
     },
     "inputWidgets": {},
     "nuid": "fe70eff2-c963-4412-b56c-7082877b5d34",
     "showTitle": false,
     "title": ""
    }
   },
   "outputs": [
    {
     "output_type": "stream",
     "name": "stdout",
     "output_type": "stream",
     "text": [
      "Jane\n22\nJohn\n31\nBruce\n19\nVe\n34\nThor\nNone\n"
     ]
    }
   ],
   "source": [
    "for row in my_2D_list:\n",
    "  for item in row:\n",
    "    print(item)"
   ]
  },
  {
   "cell_type": "code",
   "execution_count": 0,
   "metadata": {
    "application/vnd.databricks.v1+cell": {
     "cellMetadata": {
      "byteLimit": 2048000,
      "rowLimit": 10000
     },
     "inputWidgets": {},
     "nuid": "a148d5d1-6e22-4a10-8ffe-e2ce9fc998db",
     "showTitle": true,
     "title": "Dictionary"
    }
   },
   "outputs": [
    {
     "output_type": "stream",
     "name": "stdout",
     "output_type": "stream",
     "text": [
      "Bruce\nBatman\n"
     ]
    }
   ],
   "source": [
    "# Let's look at a Python dictionary type. \n",
    "# It works like a hashMap where you can lookup a value based on a key. \n",
    "# These can also be multidimensional. \n",
    "# These are used a lot to store JSON.\n",
    "\n",
    "data = {\"key1\": \"Jane\",\n",
    "        \"key2\": \"John\",\n",
    "        \"key3\": \"Bruce\",\n",
    "        \"key4\": \"Ve\",\n",
    "        \"key5\": \"Daryl\",\n",
    "        \"key6\": \"Thor\"\n",
    "       }\n",
    "\n",
    "print(data[\"key3\"])\n",
    "\n",
    "data[\"key3\"] = \"Batman\"\n",
    "print(data[\"key3\"])"
   ]
  },
  {
   "cell_type": "code",
   "execution_count": 0,
   "metadata": {
    "application/vnd.databricks.v1+cell": {
     "cellMetadata": {
      "byteLimit": 2048000,
      "rowLimit": 10000
     },
     "inputWidgets": {},
     "nuid": "0ea63534-8129-4fb4-b8b2-eb50cfa21928",
     "showTitle": false,
     "title": ""
    }
   },
   "outputs": [
    {
     "output_type": "stream",
     "name": "stdout",
     "output_type": "stream",
     "text": [
      "key1  ->  Jane\nkey2  ->  John\nkey3  ->  Batman\nkey4  ->  Ve\nkey5  ->  Daryl\nkey6  ->  Thor\nt\n"
     ]
    }
   ],
   "source": [
    "for key, name in data.items():\n",
    "  print(key, \" -> \", name)\n",
    "print(\"t\")"
   ]
  }
 ],
 "metadata": {
  "application/vnd.databricks.v1+notebook": {
   "dashboards": [],
   "language": "python",
   "notebookMetadata": {
    "pythonIndentUnit": 4
   },
   "notebookName": "PySpark Notebook",
   "widgets": {}
  }
 },
 "nbformat": 4,
 "nbformat_minor": 0
}
